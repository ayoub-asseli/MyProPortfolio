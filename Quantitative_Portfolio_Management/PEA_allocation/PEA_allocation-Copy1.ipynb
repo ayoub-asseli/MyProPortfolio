{
 "cells": [
  {
   "cell_type": "markdown",
   "id": "ba999081",
   "metadata": {},
   "source": [
    "### Context\n",
    "\n",
    "I've just opened a \"PEA\" account (Plan d'épargne en Actions) in my bank which is a tax-advantaged savings and investment plan designed to encourage long-term investment in the european stock market. So, I have started this project in order to build a profitable stocks portfolio for my personal interest.\n",
    "\n",
    "I hope this project helps you !"
   ]
  },
  {
   "cell_type": "markdown",
   "id": "52c75a99",
   "metadata": {},
   "source": [
    "### Librairies needed"
   ]
  },
  {
   "cell_type": "code",
   "execution_count": 1,
   "id": "1b3057e9",
   "metadata": {},
   "outputs": [
    {
     "name": "stderr",
     "output_type": "stream",
     "text": [
      "/Users/ayoub/opt/anaconda3/lib/python3.8/site-packages/scipy/__init__.py:138: UserWarning: A NumPy version >=1.16.5 and <1.23.0 is required for this version of SciPy (detected version 1.24.3)\n",
      "  warnings.warn(f\"A NumPy version >={np_minversion} and <{np_maxversion} is required for this version of \"\n"
     ]
    }
   ],
   "source": [
    "#API Financial Data\n",
    "import yfinance as yf\n",
    "\n",
    "#For Data Treatment\n",
    "from datetime import datetime as dt\n",
    "from datetime import timedelta\n",
    "import pandas as pd\n",
    "import numpy as np\n",
    "import itertools\n",
    "\n",
    "#Machine Learning\n",
    "from sklearn.linear_model import LinearRegression\n",
    "from sklearn.model_selection import train_test_split\n",
    "\n",
    "#For Data visualization\n",
    "import matplotlib.pyplot as plt\n",
    "import seaborn as sns\n",
    "\n",
    "#Optimization\n",
    "import cvxopt as opt\n",
    "from cvxopt import blas, solvers\n",
    "\n",
    "#Others\n",
    "import warnings\n",
    "\n",
    "warnings.filterwarnings('ignore')\n",
    "sns.set_theme()"
   ]
  },
  {
   "cell_type": "markdown",
   "id": "775c6157",
   "metadata": {},
   "source": [
    "# I - Data retrievement"
   ]
  },
  {
   "cell_type": "code",
   "execution_count": 2,
   "id": "93adbf7b",
   "metadata": {},
   "outputs": [
    {
     "data": {
      "text/plain": [
       "['Stock', 'ETF', 'Future', 'Index', 'Mutual Fund', 'Currency', 'About']"
      ]
     },
     "execution_count": 2,
     "metadata": {},
     "output_type": "execute_result"
    }
   ],
   "source": [
    "pd.ExcelFile(\"tickers.xlsx\").sheet_names"
   ]
  },
  {
   "cell_type": "markdown",
   "id": "ead6e384",
   "metadata": {},
   "source": [
    "#### Target Asset Parameter"
   ]
  },
  {
   "cell_type": "code",
   "execution_count": 3,
   "id": "a9bddb14",
   "metadata": {},
   "outputs": [],
   "source": [
    "targeted_asset = \"Stock\""
   ]
  },
  {
   "cell_type": "code",
   "execution_count": null,
   "id": "e9b8b155",
   "metadata": {
    "scrolled": true
   },
   "outputs": [],
   "source": [
    "european_stocks = pd.read_excel(\"tickers.xlsx\", sheet_name = targeted_asset)\n",
    "european_stocks = european_stocks.rename(columns=european_stocks.iloc[2]).drop(index=[0, 1, 2]) \n",
    "columns_to_keep = [column for column in european_stocks.columns if type(column) == str] \n",
    "european_stocks = european_stocks[columns_to_keep]\n",
    "european_stocks.head(10)"
   ]
  },
  {
   "cell_type": "code",
   "execution_count": null,
   "id": "bc1229a7",
   "metadata": {
    "scrolled": true
   },
   "outputs": [],
   "source": [
    "#Country\n",
    "print(list(set(european_stocks[\"Country\"].to_list())))"
   ]
  },
  {
   "cell_type": "code",
   "execution_count": null,
   "id": "761d3f89",
   "metadata": {
    "scrolled": true
   },
   "outputs": [],
   "source": [
    "#Exchange\n",
    "print(list(set(european_stocks[\"Exchange\"].to_list())))"
   ]
  },
  {
   "cell_type": "markdown",
   "id": "5bfc9fc7",
   "metadata": {},
   "source": [
    "Index Tickers\n",
    "\n",
    "- \"^FCHI\"(CAC 40 --> France)\n",
    "- \"^GDAXI\" (DAX --> Germany)\n",
    "- \"^FTSE\" (FTSE --> GB)\n",
    "- \"^GSPC\" (S&P --> US)"
   ]
  },
  {
   "cell_type": "markdown",
   "id": "aa7ffcad",
   "metadata": {},
   "source": [
    "#### Targeted Market Parameter"
   ]
  },
  {
   "cell_type": "code",
   "execution_count": null,
   "id": "9dfe179a",
   "metadata": {},
   "outputs": [],
   "source": [
    "countries = [\"France\"]\n",
    "exchange = [\"PAR\"]\n",
    "index_ticker = \"^GSPC\"\n",
    "start_date = \"2018-06-20\"\n",
    "end_date = \"2023-06-20\"\n",
    "period = (dt.strptime(end_date, \"%Y-%m-%d\")-dt.strptime(start_date, \"%Y-%m-%d\")).days"
   ]
  },
  {
   "cell_type": "markdown",
   "id": "bf834008",
   "metadata": {},
   "source": [
    "## Stocks Data"
   ]
  },
  {
   "cell_type": "code",
   "execution_count": null,
   "id": "af04599d",
   "metadata": {
    "scrolled": true
   },
   "outputs": [],
   "source": [
    "european_stocks_s= european_stocks[european_stocks[\"Country\"].isin(countries)].dropna(subset=[\"Category Name\"])\n",
    "if len(exchange) != 0:\n",
    "    european_stocks_s = european_stocks[european_stocks[\"Exchange\"].isin(exchange)].dropna(subset=[\"Category Name\"])\n",
    "european_stocks_s"
   ]
  },
  {
   "cell_type": "markdown",
   "id": "447e689b",
   "metadata": {},
   "source": [
    "#### Dataframe compiling all daily returns from all tickers in the european_stocks_tickers datframe"
   ]
  },
  {
   "cell_type": "code",
   "execution_count": null,
   "id": "6870f422",
   "metadata": {
    "scrolled": true
   },
   "outputs": [],
   "source": [
    "df_prices = pd.DataFrame()\n",
    "i = 0\n",
    "for ticker, name, category in zip(european_stocks_s[\"Ticker\"], european_stocks_s[\"Name\"], european_stocks_s[\"Category Name\"]):\n",
    "    data = yf.Ticker(ticker).history(start=start_date, end=end_date, period=\"1d\")\n",
    "    if i == 0:\n",
    "        x = len(data)\n",
    "        i += 1\n",
    "    if data[\"Volume\"].sum() > period*(10**5) and data[\"Close\"].sum() > period*10 and len(data) == x:\n",
    "        df_prices[\"{}/{}/{}\".format(name, ticker, category)] = data[\"Close\"]"
   ]
  },
  {
   "cell_type": "code",
   "execution_count": null,
   "id": "0667452d",
   "metadata": {
    "scrolled": true
   },
   "outputs": [],
   "source": [
    "df_prices.index = df_prices.index.strftime('%Y-%m-%d')\n",
    "df_prices"
   ]
  },
  {
   "cell_type": "code",
   "execution_count": null,
   "id": "9035f418",
   "metadata": {
    "scrolled": true
   },
   "outputs": [],
   "source": [
    "df_returns = 100*df_prices.pct_change().dropna()\n",
    "df_returns"
   ]
  },
  {
   "cell_type": "markdown",
   "id": "618768f7",
   "metadata": {},
   "source": [
    "## Risk free Rate Data (\"OAT\" French Bunds)"
   ]
  },
  {
   "cell_type": "code",
   "execution_count": null,
   "id": "2777162c",
   "metadata": {
    "scrolled": true
   },
   "outputs": [],
   "source": [
    "risk_free_rate_data = pd.read_csv(\"oat_rates.csv\", delimiter=\";\")\n",
    "risk_free_rate_data = risk_free_rate_data.set_index(risk_free_rate_data[\"Titre :\"]).drop(columns=[\"Titre :\"])\n",
    "risk_free_rate_data.index.name = \"Date\"\n",
    "risk_free_rate_data = risk_free_rate_data.drop(index=[\"Code série :\", \"Unité :\", \"Magnitude :\", \"Méthode d'observation :\", \"Source :\"])\n",
    "risk_free_rate_data.index = pd.to_datetime(risk_free_rate_data.index, dayfirst=True)\n",
    "risk_free_rate_data = risk_free_rate_data[risk_free_rate_data[risk_free_rate_data.columns] != \"-\"].loc[start_date:end_date].dropna()\n",
    "risk_free_rate_data"
   ]
  },
  {
   "cell_type": "code",
   "execution_count": null,
   "id": "3b0c2ac3",
   "metadata": {
    "scrolled": false
   },
   "outputs": [],
   "source": [
    "risk_free_rate_data = risk_free_rate_data[[\"Taux indicatifs des bons du trésor à 1 mois\",\"Taux indicatifs des bons du trésor à 3 mois\",\"Taux indicatifs des bons du trésor à 6 mois\",\"Taux indicatifs des bons du trésor à 9 mois\",\"Taux indicatifs des bons du trésor à 12 mois\",\"taux indicatifs des OAT 2 ans\",\"taux indicatifs des OAT 5 ans\",\"Emprunt Phare 10 ans\",\"Taux de l'OAT à 30 ans - France\"]]\n",
    "risk_free_rate_data.loc[\"2023-04-25\"]"
   ]
  },
  {
   "cell_type": "markdown",
   "id": "9a262e33",
   "metadata": {},
   "source": [
    "#### Example of a raw rate curve"
   ]
  },
  {
   "cell_type": "code",
   "execution_count": null,
   "id": "b36ded72",
   "metadata": {
    "scrolled": false
   },
   "outputs": [],
   "source": [
    "plt.figure(figsize=(14,5))\n",
    "real_buckets = [round(1/12, 3), round(3/12, 3), round(6/12, 3), round(9/12, 3), 1.0, 2.0, 5.0, 10.0, 30.0]\n",
    "rates_test = [float(elem.replace(\",\", \".\")) for elem in risk_free_rate_data.loc[\"2022-03-22\"]]\n",
    "plt.plot(real_buckets, rates_test, color=\"red\")\n",
    "plt.xlabel(\"Maturity\")\n",
    "plt.ylabel(\"Interest Rates\")\n",
    "plt.show()"
   ]
  },
  {
   "cell_type": "code",
   "execution_count": null,
   "id": "b3585f76",
   "metadata": {
    "scrolled": false
   },
   "outputs": [],
   "source": [
    "#Missing bucket (~weekly period) and construction of daily OAT curve by a linear interpolation\n",
    "target_buckets = [round(i/52, 3) for i in range((30*52)+1)]\n",
    "rates_curves = []\n",
    "for date in risk_free_rate_data.index:\n",
    "    rates_data = risk_free_rate_data.loc[date].to_list()\n",
    "    rates_curves_daily = [float(rates_data[0].replace(\",\", \".\"))]\n",
    "    moving_real_buckets = real_buckets.copy()\n",
    "    for target_bucket in target_buckets:\n",
    "        if round(target_bucket, 3) in real_buckets:\n",
    "            rates_curves_daily.append(float(rates_data[real_buckets.index(round(target_bucket, 3))].replace(\",\", \".\")))\n",
    "        else:\n",
    "            for real_bucket in moving_real_buckets:\n",
    "                if target_bucket < real_bucket:\n",
    "                    x_b, y_b = real_bucket, float(rates_data[real_buckets.index(real_bucket)].replace(\",\", \".\"))\n",
    "                    x_a, y_a = real_buckets[real_buckets.index(real_bucket)-1], float(rates_data[real_buckets.index(real_bucket)-1].replace(\",\", \".\"))\n",
    "                    inter_rate = ((x_b-target_bucket)/(x_b-x_a))*y_a + ((target_bucket-x_a)/(x_b-x_a))*y_b\n",
    "                    rates_curves_daily.append(inter_rate)\n",
    "                    moving_real_buckets.insert(moving_real_buckets.index(real_bucket), target_bucket)\n",
    "                    break\n",
    "    rates_curves.append([date] + rates_curves_daily[2:])"
   ]
  },
  {
   "cell_type": "code",
   "execution_count": null,
   "id": "e76c30ff",
   "metadata": {
    "scrolled": false
   },
   "outputs": [],
   "source": [
    "col_names = [\"Date\"] + [\"OAT {} year(s)\".format(bucket) for bucket in target_buckets[1:]]\n",
    "data_rates = pd.DataFrame(rates_curves)\n",
    "data_rates.columns = col_names\n",
    "data_rates = data_rates.set_index(data_rates[\"Date\"]).drop(columns=[\"Date\"])\n",
    "data_rates.index = data_rates.index.strftime(\"%Y-%m-%d\")\n",
    "data_rates"
   ]
  },
  {
   "cell_type": "markdown",
   "id": "5cdfa940",
   "metadata": {},
   "source": [
    "#### Exemple of a rate curve after linear interpolations"
   ]
  },
  {
   "cell_type": "code",
   "execution_count": null,
   "id": "5e608aca",
   "metadata": {
    "scrolled": true
   },
   "outputs": [],
   "source": [
    "plt.figure(figsize=(14,5))\n",
    "plt.plot(target_buckets[1:], data_rates.loc[\"2022-03-22\"], color=\"red\")\n",
    "plt.xlabel(\"Maturity\")\n",
    "plt.ylabel(\"Interest Rates\")\n",
    "plt.show()"
   ]
  },
  {
   "cell_type": "code",
   "execution_count": null,
   "id": "7bf43837",
   "metadata": {
    "scrolled": false
   },
   "outputs": [],
   "source": [
    "print(period/365)\n",
    "for target in target_buckets:\n",
    "    if target > (period/365) and (abs(target - (period/365)) < abs(target_buckets[target_buckets.index(target)-1]-(period/365))):\n",
    "        index_t = target_buckets.index(target)\n",
    "        break\n",
    "    elif target > (period/365) and (abs(target - (period/365)) > abs(target_buckets[target_buckets.index(target)-1]-(period/365))):\n",
    "        index_t = target_buckets.index(target)-1\n",
    "        break\n",
    "index_t"
   ]
  },
  {
   "cell_type": "code",
   "execution_count": null,
   "id": "c8fb6324",
   "metadata": {
    "scrolled": true
   },
   "outputs": [],
   "source": [
    "data_rates.iloc[:, index_t]"
   ]
  },
  {
   "cell_type": "markdown",
   "id": "13be23a4",
   "metadata": {},
   "source": [
    "## Final DataFrame"
   ]
  },
  {
   "cell_type": "code",
   "execution_count": null,
   "id": "c0194c57",
   "metadata": {
    "scrolled": true
   },
   "outputs": [],
   "source": [
    "available_dates = [date for date in df_returns.index if date in data_rates.index]\n",
    "df_returns = df_returns[df_returns.index.isin(available_dates)]\n",
    "df_returns.insert(len(df_returns.columns), \"Rates\", data_rates.iloc[:, index_t])\n",
    "df_returns"
   ]
  },
  {
   "cell_type": "markdown",
   "id": "1e3f3586",
   "metadata": {},
   "source": [
    "# II - Individual Stocks Assessment"
   ]
  },
  {
   "cell_type": "code",
   "execution_count": null,
   "id": "343b565c",
   "metadata": {},
   "outputs": [],
   "source": [
    "df_r = df_returns.copy()"
   ]
  },
  {
   "cell_type": "code",
   "execution_count": null,
   "id": "7f542125",
   "metadata": {
    "scrolled": true
   },
   "outputs": [],
   "source": [
    "#Stocks \"Name/Yahoo_Symbol/Category\"\n",
    "L = [stock for stock in df_returns.columns if \"/\" in stock]\n",
    "L"
   ]
  },
  {
   "cell_type": "markdown",
   "id": "196ededd",
   "metadata": {},
   "source": [
    "### Start with an example to illustrate the procedure"
   ]
  },
  {
   "cell_type": "code",
   "execution_count": null,
   "id": "b4501710",
   "metadata": {},
   "outputs": [],
   "source": [
    "#Choose your stock\n",
    "stock = L[0]"
   ]
  },
  {
   "cell_type": "code",
   "execution_count": null,
   "id": "4c8af5f6",
   "metadata": {
    "scrolled": true
   },
   "outputs": [],
   "source": [
    "data = yf.Ticker(stock.split(\"/\")[1]).history(start=start_date, end=end_date, period=\"1d\")\n",
    "data.index = data.index.strftime('%Y-%m-%d')\n",
    "data"
   ]
  },
  {
   "cell_type": "code",
   "execution_count": null,
   "id": "87e0b381",
   "metadata": {},
   "outputs": [],
   "source": [
    "#Global variable for ratios\n",
    "return_period = np.divide(100*(np.array(data[\"Close\"].diff().dropna()) + np.array(data[\"Dividends\"][1:])), np.array(data[\"Close\"].to_list()[:-1]))\n",
    "av_return_period = return_period.mean() * 252\n",
    "risk_free_rate = df_returns[\"Rates\"].loc[data.index[1]]\n",
    "stock_vol = round(return_period.std(), 2) * np.sqrt(252)"
   ]
  },
  {
   "cell_type": "markdown",
   "id": "f62a8108",
   "metadata": {},
   "source": [
    "#### Sharpe Ratio"
   ]
  },
  {
   "cell_type": "code",
   "execution_count": null,
   "id": "f5745ba1",
   "metadata": {},
   "outputs": [],
   "source": [
    "sharpe_ratio = (av_return_period-risk_free_rate)/stock_vol\n",
    "print(\"Ratio de Sharpe: \", sharpe_ratio)"
   ]
  },
  {
   "cell_type": "markdown",
   "id": "97d61ccc",
   "metadata": {},
   "source": [
    "#### Sortino Ratio"
   ]
  },
  {
   "cell_type": "code",
   "execution_count": null,
   "id": "79fa9199",
   "metadata": {},
   "outputs": [],
   "source": [
    "neg_return = [return_ for return_ in return_period if return_ < 0]\n",
    "if len(neg_return) > 1:\n",
    "    stock_vol_sortino = np.std(neg_return) * np.sqrt(252)\n",
    "    sortino_ratio = (av_return_period - risk_free_rate)/stock_vol_sortino\n",
    "else:\n",
    "    sortino_ratio = 0\n",
    "print(\"Ratio de Sortino: \", sortino_ratio)"
   ]
  },
  {
   "cell_type": "markdown",
   "id": "38425213",
   "metadata": {},
   "source": [
    "#### Benchmark Index"
   ]
  },
  {
   "cell_type": "code",
   "execution_count": null,
   "id": "b8e38be6",
   "metadata": {},
   "outputs": [],
   "source": [
    "start_date_index = dt.strptime(df_returns.index[0], \"%Y-%m-%d\") - timedelta(days=30)\n",
    "end_date_index = dt.strptime(df_returns.index[0], \"%Y-%m-%d\") + timedelta(days=30)\n",
    "index_ref = yf.Ticker(index_ticker).history(start=start_date_index, end=end_date, period=\"1d\")\n",
    "index_ref.index = index_ref.index.strftime(\"%Y-%m-%d\")"
   ]
  },
  {
   "cell_type": "code",
   "execution_count": null,
   "id": "cda68732",
   "metadata": {
    "scrolled": true
   },
   "outputs": [],
   "source": [
    "index_returns = pd.DataFrame(np.divide(100*(np.array(index_ref[\"Close\"].diff().dropna()) + np.array(index_ref[\"Dividends\"][1:])), np.array(index_ref[\"Close\"].to_list()[:-1])), \\\n",
    "                             index= index_ref.index[1:], columns=[\"Index Returns\"])"
   ]
  },
  {
   "cell_type": "code",
   "execution_count": null,
   "id": "d33e6111",
   "metadata": {
    "scrolled": true
   },
   "outputs": [],
   "source": [
    "if \"Index Returns\" in df_r.columns:  \n",
    "    del df_r[\"Index Returns\"]\n",
    "df_r.insert(len(df_returns.columns)-1, \"Index Returns\", index_returns[index_returns.index.isin(df_r.index)], True)"
   ]
  },
  {
   "cell_type": "code",
   "execution_count": null,
   "id": "84af5663",
   "metadata": {
    "scrolled": true
   },
   "outputs": [],
   "source": [
    "#Who outperforms ? \n",
    "if sum(np.array(df_r[stock])-np.array(df_r[\"Index Returns\"])) > 0:\n",
    "    print(\"L'action de {} a surperformé l'indice !!\".format(stock.split(\"/\")[0]))\n",
    "else:\n",
    "    print(\"L'indice a surperformé l'action de {}\".format(stock.split(\"/\")[0]))"
   ]
  },
  {
   "cell_type": "code",
   "execution_count": null,
   "id": "58874b5e",
   "metadata": {
    "scrolled": false
   },
   "outputs": [],
   "source": [
    "df_r = df_r.dropna()\n",
    "df_r"
   ]
  },
  {
   "cell_type": "markdown",
   "id": "4401fbfb",
   "metadata": {},
   "source": [
    "#### Treynor Ratio"
   ]
  },
  {
   "cell_type": "markdown",
   "id": "a2cc6613",
   "metadata": {},
   "source": [
    "##### Deals with outliers by the IQR method"
   ]
  },
  {
   "cell_type": "code",
   "execution_count": null,
   "id": "818b2d11",
   "metadata": {},
   "outputs": [],
   "source": [
    "#Deals with outliers BY the IQR method\n",
    "outliers_index_by_stock = []\n",
    "i = 0\n",
    "df_o = df_r.copy()\n",
    "for col in df_o.columns[:-2]:\n",
    "    Q1 = df_o[col].quantile(0.25)\n",
    "    Q3 = df_o[col].quantile(0.75)\n",
    "    IQR = Q3 - Q1\n",
    "    lower_whisker = Q1 - 1.5*IQR\n",
    "    upper_whisker = Q3 + 1.5*IQR\n",
    "    outliers_index_by_stock.append([col, list(df_o[(df_o[col] >= upper_whisker) | (df_o[col] <= lower_whisker)][col].index)])"
   ]
  },
  {
   "cell_type": "code",
   "execution_count": null,
   "id": "654545c8",
   "metadata": {},
   "outputs": [],
   "source": [
    "max_len_outliers = len(max(outliers_index_by_stock, key=lambda x: len(x[1]))[1])\n",
    "max_len_outliers"
   ]
  },
  {
   "cell_type": "code",
   "execution_count": null,
   "id": "4d5ff053",
   "metadata": {},
   "outputs": [],
   "source": [
    "for outlier in outliers_index_by_stock:\n",
    "    n = len(outlier[1])\n",
    "    if n < max_len_outliers:\n",
    "        outlier[1] = outlier[1] + [np.nan]*(max_len_outliers-n)"
   ]
  },
  {
   "cell_type": "code",
   "execution_count": null,
   "id": "690165e8",
   "metadata": {
    "scrolled": true
   },
   "outputs": [],
   "source": [
    "df_outliers = pd.DataFrame()\n",
    "i = 0 \n",
    "for outlier in outliers_index_by_stock:\n",
    "    df_outliers.insert(i, outlier[0], outlier[1])\n",
    "df_outliers"
   ]
  },
  {
   "cell_type": "markdown",
   "id": "3d0491c2",
   "metadata": {},
   "source": [
    "##### Linear Regression (Index Returns, Stock Returns)"
   ]
  },
  {
   "cell_type": "code",
   "execution_count": null,
   "id": "7df35b08",
   "metadata": {},
   "outputs": [],
   "source": [
    "reg_dict = {}\n",
    "for col in df_outliers.columns:\n",
    "    df_reg = pd.DataFrame()\n",
    "    l_o = [elem for elem in df_outliers[col] if type(elem) == str]\n",
    "    df_reg.insert(0, col + \" Returns\", df_r[~df_r.index.isin(l_o)][col])\n",
    "    df_reg.insert(1, \"Index Returns\", df_r[~df_r.index.isin(l_o)][\"Index Returns\"])\n",
    "    df_reg.insert(2, \"Rates\", df_r[~df_r.index.isin(l_o)][\"Rates\"])\n",
    "    reg_dict[col] = df_reg"
   ]
  },
  {
   "cell_type": "code",
   "execution_count": null,
   "id": "694bf707",
   "metadata": {
    "scrolled": true
   },
   "outputs": [],
   "source": [
    "kik = reg_dict[stock].columns\n",
    "reg_dict[stock]"
   ]
  },
  {
   "cell_type": "code",
   "execution_count": null,
   "id": "8f0fc125",
   "metadata": {
    "scrolled": true
   },
   "outputs": [],
   "source": [
    "plt.figure(figsize=(15, 4))\n",
    "plt.scatter(reg_dict[stock][\"Index Returns\"], reg_dict[stock][\"{} Returns\".format(stock)], color=\"red\")\n",
    "plt.xlabel(\"Index Returns\")\n",
    "plt.ylabel(\"Stock Returns\")\n",
    "plt.show()"
   ]
  },
  {
   "cell_type": "code",
   "execution_count": null,
   "id": "fed94fe4",
   "metadata": {},
   "outputs": [],
   "source": [
    "#Scikit learn method\n",
    "model = LinearRegression()\n",
    "X, y = np.array(reg_dict[stock][\"Index Returns\"]), np.array(reg_dict[stock][\"{} Returns\".format(stock)])\n",
    "X = X.reshape(-1, 1)\n",
    "X_train, X_test, y_train, y_test = train_test_split(X, y, test_size=0.33)\n",
    "reg = model.fit(X_train, y_train)"
   ]
  },
  {
   "cell_type": "code",
   "execution_count": null,
   "id": "fec93647",
   "metadata": {},
   "outputs": [],
   "source": [
    "r_sq = reg.score(X, y)\n",
    "print('coefficient of determination:', r_sq)\n",
    "\n",
    "print('Intercept:', reg.intercept_)\n",
    "\n",
    "print('Slope:', reg.coef_) \n",
    "\n",
    "y_pred = reg.predict(X)"
   ]
  },
  {
   "cell_type": "code",
   "execution_count": null,
   "id": "75db80a7",
   "metadata": {
    "scrolled": false
   },
   "outputs": [],
   "source": [
    "plt.figure(figsize=(15, 4))\n",
    "plt.scatter(reg_dict[stock][\"Index Returns\"], reg_dict[stock][\"{} Returns\".format(stock)], color=\"red\")\n",
    "plt.plot(reg_dict[stock][\"Index Returns\"], y_pred, color=\"blue\")\n",
    "plt.xlabel(\"Index Returns\")\n",
    "plt.ylabel(\"Stock Returns\")\n",
    "plt.show()"
   ]
  },
  {
   "cell_type": "code",
   "execution_count": null,
   "id": "eb60b40e",
   "metadata": {
    "scrolled": true
   },
   "outputs": [],
   "source": [
    "beta = reg.coef_[0]\n",
    "print(\"Treynor Ratio: \", ((av_return_period/252)-risk_free_rate)/beta)"
   ]
  },
  {
   "cell_type": "markdown",
   "id": "6dc3c694",
   "metadata": {},
   "source": [
    "### Now Let's apply the procedure to all stocks !"
   ]
  },
  {
   "cell_type": "code",
   "execution_count": null,
   "id": "3d7b7063",
   "metadata": {},
   "outputs": [],
   "source": [
    "#Reminder\n",
    "print(f\"Period: {start_date} ==> {end_date}\")"
   ]
  },
  {
   "cell_type": "code",
   "execution_count": null,
   "id": "48b84690",
   "metadata": {},
   "outputs": [],
   "source": [
    "df_stocks_perf = pd.DataFrame(index=[\"Prix initial-->Prix finale\", \"Total Stock Return (%)\", \"Annual Stock Return (%)\" ,\"Volatility (%)\", \"Risk Free Rate (%)\" ,\"Sharpe Ratio\", \"Sortino Ratio\", \"Treynor Ratio\" , \"CAC 40 Correlation\"])\n",
    "for stock in df_r.columns[:-2]:\n",
    "    print(stock)\n",
    "    data = yf.Ticker(stock.split(\"/\")[1]).history(start=start_date,end=end_date ,period=\"1d\") \n",
    "    data.index = data.index.strftime('%Y-%m-%d')\n",
    "    dates = data.index\n",
    "    #Price Growth\n",
    "    prices = \"  ==> \".join([str(round(data[\"Close\"].loc[dates[0]], 2)), str(round(data[\"Close\"].loc[dates[-1]], 2))])\n",
    "    growth = ((data[\"Close\"].loc[dates[-1]]-data[\"Close\"].loc[dates[0]])/data[\"Close\"].loc[dates[0]])\n",
    "    period = ((dt.strptime(dates[-1], \"%Y-%m-%d\")-dt.strptime(dates[0], \"%Y-%m-%d\")).days)/365\n",
    "    ann_growth = ((1+growth)**(1/period))-1\n",
    "    growth = round(growth*100, 2)\n",
    "    ann_growth = round(ann_growth*100, 2)\n",
    "    #Global variable for ratios\n",
    "    return_period = np.divide(100*(np.array(data[\"Close\"].diff().dropna()) + np.array(data[\"Dividends\"][1:])), np.array(data[\"Close\"].to_list()[:-1]))\n",
    "    av_return_period = return_period.mean()*252\n",
    "    risk_free_rate = df_returns[\"Rates\"].loc[df_returns.index[0]]\n",
    "    period_volatility_percentage = round(return_period.std()*np.sqrt(252), 2)\n",
    "    #Sharpe Ratio\n",
    "    sharpe_ratio = (av_return_period-risk_free_rate)/period_volatility_percentage\n",
    "    #Sortino Ratio\n",
    "    neg_return = [return_ for return_ in return_period if return_ < 0]\n",
    "    if len(neg_return) > 1:\n",
    "        stock_vol_sortino = np.std(neg_return)*np.sqrt(252)\n",
    "        sortino_ratio = (av_return_period - risk_free_rate)/stock_vol_sortino\n",
    "    else:\n",
    "        sortino_ratio = 0\n",
    "    #Treynor Ratio\n",
    "    model = LinearRegression()\n",
    "    X, y = np.array(reg_dict[stock][\"Index Returns\"]), np.array(reg_dict[stock][\"{} Returns\".format(stock)])\n",
    "    X = X.reshape(-1, 1)\n",
    "    X_train, X_test, y_train, y_test = train_test_split(X, y, test_size=0.33)\n",
    "    reg = model.fit(X_test, y_test)\n",
    "    beta = reg.coef_[0]\n",
    "    treynor_ratio = ((av_return_period/252)-risk_free_rate)/beta\n",
    "    #Add values in df\n",
    "    df_stocks_perf[stock] = [prices, growth, ann_growth, period_volatility_percentage, round(risk_free_rate, 4), sharpe_ratio, sortino_ratio, treynor_ratio, reg.score(X,y)]"
   ]
  },
  {
   "cell_type": "code",
   "execution_count": null,
   "id": "f6379c7c",
   "metadata": {
    "scrolled": true
   },
   "outputs": [],
   "source": [
    "df_stocks_perf"
   ]
  },
  {
   "cell_type": "code",
   "execution_count": null,
   "id": "de71bf81",
   "metadata": {
    "scrolled": false
   },
   "outputs": [],
   "source": [
    "#Checking result for LVMH\n",
    "df_stocks_perf[L[0]]"
   ]
  },
  {
   "cell_type": "code",
   "execution_count": null,
   "id": "7691e998",
   "metadata": {},
   "outputs": [],
   "source": [
    "df_most = df_stocks_perf[df_stocks_perf.loc[\"Total Stock Return (%)\":] >= 0]\n",
    "df_most = df_most.dropna(thresh=len(df_most) - 2, axis=1)"
   ]
  },
  {
   "cell_type": "code",
   "execution_count": null,
   "id": "4206d4bc",
   "metadata": {
    "scrolled": true
   },
   "outputs": [],
   "source": [
    "#Top Stock Return\n",
    "df_most_return = df_most.dropna(thresh=len(df_most) - 2, axis=1).sort_values(\"Total Stock Return (%)\", axis=1, ascending=False)\n",
    "stock_name_r = [elem.split(\"/\")[0] for elem in df_most_return]\n",
    "list(zip(stock_name_r, df_most_return.loc[\"Total Stock Return (%)\"]))"
   ]
  },
  {
   "cell_type": "code",
   "execution_count": null,
   "id": "0f6a5dc8",
   "metadata": {},
   "outputs": [],
   "source": [
    "#Top Volatility\n",
    "df_most_vol = df_most.dropna(thresh=len(df_most) - 2, axis=1).sort_values(\"Volatility (%)\", axis=1, ascending=False)\n",
    "stock_name_vol = [elem.split(\"/\")[0] for elem in df_most_vol]\n",
    "list(zip(stock_name_vol, df_most_vol.loc[\"Volatility (%)\"]))"
   ]
  },
  {
   "cell_type": "code",
   "execution_count": null,
   "id": "f93d64c4",
   "metadata": {
    "scrolled": true
   },
   "outputs": [],
   "source": [
    "#Top Sharpe Ratio\n",
    "df_most_sharpe = df_most.dropna(thresh=len(df_most) - 2, axis=1).sort_values(\"Sharpe Ratio\", axis=1, ascending=False)\n",
    "stock_name_sh = [elem.split(\"/\")[0] for elem in df_most_sharpe]\n",
    "list(zip(stock_name_sh, df_most_sharpe.loc[\"Sharpe Ratio\"]))"
   ]
  },
  {
   "cell_type": "code",
   "execution_count": null,
   "id": "a36f6b3b",
   "metadata": {
    "scrolled": true
   },
   "outputs": [],
   "source": [
    "#Top Sortino Ratio\n",
    "df_most_sortino = df_most.dropna(thresh=len(df_most) - 2, axis=1).sort_values(\"Sortino Ratio\", axis=1, ascending=False)\n",
    "stock_name_so = [elem.split(\"/\")[0] for elem in df_most_sortino]\n",
    "list(zip(stock_name_so, df_most_sortino.loc[\"Sortino Ratio\"]))"
   ]
  },
  {
   "cell_type": "code",
   "execution_count": null,
   "id": "f3706f51",
   "metadata": {
    "scrolled": true
   },
   "outputs": [],
   "source": [
    "#Top Treynor Ratio\n",
    "df_most_treynor = df_most.dropna(thresh=len(df_most) - 2, axis=1).sort_values(\"Treynor Ratio\", axis=1, ascending=False)\n",
    "stock_name_tr = [elem.split(\"/\")[0] for elem in df_most_treynor]\n",
    "list(zip(stock_name_tr, df_most_treynor.loc[\"Treynor Ratio\"]))"
   ]
  },
  {
   "cell_type": "code",
   "execution_count": null,
   "id": "8c2446e7",
   "metadata": {
    "scrolled": true
   },
   "outputs": [],
   "source": [
    "#Top Index/Stock coeff of determination\n",
    "df_most_info = df_most.dropna(thresh=len(df_most) - 2, axis=1).sort_values(\"CAC 40 Correlation\", axis=1, ascending=False)\n",
    "stock_name_info = [elem.split(\"/\")[0] for elem in df_most_info]\n",
    "list(zip(stock_name_info, df_most_info.loc[\"CAC 40 Correlation\"]))"
   ]
  },
  {
   "cell_type": "markdown",
   "id": "16da6092",
   "metadata": {},
   "source": [
    "# III- Portfolio Construction"
   ]
  },
  {
   "cell_type": "markdown",
   "id": "e00fb61c",
   "metadata": {},
   "source": [
    "### Goals\n",
    "- Diverisified portfolio with 4 stocks\n",
    "- At least a global return of 12%\n",
    "- Sharpe, Sortino and Treynor ratios upper than 1\n",
    "\n",
    "### Constraints\n",
    "- At least 5% of ponderation for each stock and max 30%\n",
    "- Correlation limit between stocks of 0.3\n",
    "- Volatility limit of 18%\n",
    "\n",
    "### Methods\n",
    "- Monte Carlo\n",
    "- Markowitz Model"
   ]
  },
  {
   "cell_type": "code",
   "execution_count": null,
   "id": "bdd92d46",
   "metadata": {},
   "outputs": [],
   "source": [
    "######## Global Variables ########\n",
    "number_of_stocks = 4\n",
    "\n",
    "########### Monte Carlo ###########\n",
    "#Constraints\n",
    "expected_annual_return = 0.20\n",
    "min_ratios = 0.5\n",
    "pond_max = 0.30\n",
    "pond_min = 0.05\n",
    "corr_limit = 0.35\n",
    "vol_max = 0.18\n",
    "#Simulation\n",
    "number_of_simulations_by_diversified_pf = 10000\n",
    "\n",
    "#Markowitz Model\n",
    "number_of_random_portfolios = 1500"
   ]
  },
  {
   "cell_type": "markdown",
   "id": "74188b8b",
   "metadata": {},
   "source": [
    "### Dataframes"
   ]
  },
  {
   "cell_type": "code",
   "execution_count": null,
   "id": "f94f4060",
   "metadata": {
    "scrolled": true
   },
   "outputs": [],
   "source": [
    "#Daily Stocks Returns, Daily Index CAC 40 returns, Daily Free Risk Rates data\n",
    "df_returns_p = df_r.loc[start_date:end_date].copy()\n",
    "df_returns_p"
   ]
  },
  {
   "cell_type": "code",
   "execution_count": null,
   "id": "09bd1a4d",
   "metadata": {
    "scrolled": true
   },
   "outputs": [],
   "source": [
    "#Stocks Performance\n",
    "df_perf_p = df_stocks_perf[df_most_return.columns].copy()\n",
    "df_perf_p"
   ]
  },
  {
   "cell_type": "code",
   "execution_count": null,
   "id": "3b3ceb02",
   "metadata": {
    "scrolled": true
   },
   "outputs": [],
   "source": [
    "#Correlation matrix\n",
    "correlation_matrix = df_returns_p[df_most_return.columns].corr()\n",
    "correlation_matrix"
   ]
  },
  {
   "cell_type": "markdown",
   "id": "4060ca77",
   "metadata": {},
   "source": [
    "### Monte Carlo Simulation"
   ]
  },
  {
   "cell_type": "code",
   "execution_count": null,
   "id": "66376d12",
   "metadata": {},
   "outputs": [],
   "source": [
    "def weighting_list(n):\n",
    "    k = np.random.rand(n)\n",
    "    return k / sum(k)"
   ]
  },
  {
   "cell_type": "code",
   "execution_count": null,
   "id": "fb317ece",
   "metadata": {},
   "outputs": [],
   "source": [
    "#All combinations possible without repeated elements\n",
    "stocks = correlation_matrix.columns[:30]\n",
    "combinations = list(itertools.combinations(stocks, number_of_stocks))\n",
    "\n",
    "len(combinations)"
   ]
  },
  {
   "cell_type": "code",
   "execution_count": null,
   "id": "7beb2245",
   "metadata": {},
   "outputs": [],
   "source": [
    "less_correlated_stocks = []\n",
    "for combination in combinations:\n",
    "    combination = list(combination)\n",
    "    sub_matrix = correlation_matrix.loc[combination, combination]\n",
    "    if (sub_matrix.values[~pd.DataFrame(np.eye(len(sub_matrix), dtype=bool)).values] < corr_limit).all():\n",
    "        less_correlated_stocks.append(combination)\n",
    "print(\"Number of Diversified Combinations:\", len(less_correlated_stocks))"
   ]
  },
  {
   "cell_type": "code",
   "execution_count": null,
   "id": "c63f37fb",
   "metadata": {
    "scrolled": false
   },
   "outputs": [],
   "source": [
    "#Best diversified portfolios\n",
    "portfolios = []\n",
    "index_re_col = df_returns_p[\"Index Returns\"]\n",
    "rates_re_col = df_returns_p[\"Rates\"]\n",
    "dates = df_returns_p.index\n",
    "num = -1\n",
    "total_num = 0\n",
    "for combination in less_correlated_stocks:\n",
    "    if num == -1:\n",
    "        print(\"The Process Started...\\n\")\n",
    "        num = 0\n",
    "    else:\n",
    "        print(less_correlated_stocks[less_correlated_stocks.index(combination)-1])\n",
    "        print(\"Number of allocations:\", num)\n",
    "        print(\"\\n\", \"-\"*100, \"\\n\")\n",
    "        total_num += num\n",
    "        num = 0\n",
    "    combination = list(combination)\n",
    "    for _ in range(number_of_simulations_by_diversified_pf):\n",
    "        sub_df = pd.DataFrame()\n",
    "        sub_matrix = correlation_matrix.loc[combination, combination]\n",
    "        if (sub_matrix.values[~pd.DataFrame(np.eye(len(sub_matrix), dtype=bool)).values] < corr_limit).all():\n",
    "            weights = weighting_list(number_of_stocks)\n",
    "            if (max(weights) > pond_max and min(weights) < pond_min) or int(sum(weights)) == 0 :\n",
    "                continue\n",
    "            i = 0\n",
    "            start_return, end_return, portfolio_return = 0, 0, 0\n",
    "            for stock, weight in zip(combination, weights):\n",
    "                try:\n",
    "                    i += 1\n",
    "                    portfolio_return += weight*df_returns_p[stock]\n",
    "                    start_return += weight*df_prices[stock].loc[dates[0]:dates[-1]].to_list()[0]\n",
    "                    end_return += weight*df_prices[stock].loc[dates[0]:dates[-1]].to_list()[-1]\n",
    "                except:\n",
    "                    break\n",
    "\n",
    "            if i != number_of_stocks:\n",
    "                continue\n",
    "\n",
    "            sub_df.insert(0, \"Portfolio Returns\", portfolio_return, True)\n",
    "            sub_df.index = df_returns_p.index\n",
    "            sub_df.insert(1, \"Index Returns\", index_re_col, True)\n",
    "            sub_df.insert(2, \"Rates\", rates_re_col, True)\n",
    "\n",
    "            #Price Growth\n",
    "            growth = ((end_return-start_return)/start_return)\n",
    "            period = ((dt.strptime(dates[-1], \"%Y-%m-%d\")-dt.strptime(dates[0], \"%Y-%m-%d\")).days)/365\n",
    "            ann_growth = ((1+growth)**(1/period))-1\n",
    "            if ann_growth < expected_annual_return:\n",
    "                continue\n",
    "            ann_growth = round(ann_growth*100, 2)\n",
    "            growth = round(growth*100, 2)\n",
    "\n",
    "            #Global variable for ratios\n",
    "            av_return_period = round(portfolio_return.mean()*252, 3)\n",
    "            risk_free_rate = round(df_returns_p[\"Rates\"].loc[dates[0]], 3)\n",
    "            period_volatility_percentage = round(portfolio_return.std()* np.sqrt(252),3)\n",
    "            if period_volatility_percentage > vol_max*100:\n",
    "                continue\n",
    "\n",
    "            #Sharpe Ratio\n",
    "            sharpe_ratio = (av_return_period-risk_free_rate)/period_volatility_percentage\n",
    "            if sharpe_ratio < min_ratios:\n",
    "                continue\n",
    "\n",
    "            #Sortino Ratio\n",
    "            neg_return = [return_ for return_ in portfolio_return if return_ < 0]\n",
    "            if len(neg_return) > 1:\n",
    "                stock_vol_sortino = np.std(neg_return) * np.sqrt(252)\n",
    "                sortino_ratio = (av_return_period - risk_free_rate)/stock_vol_sortino\n",
    "            else:\n",
    "                sortino_ratio = 0\n",
    "\n",
    "            #Treynor Ratio\n",
    "            model = LinearRegression()\n",
    "            X, y = np.array(index_re_col), portfolio_return\n",
    "            X = X.reshape(-1, 1)\n",
    "            X_train, X_test, y_train, y_test = train_test_split(X, y, test_size=0.33)\n",
    "            reg = model.fit(X_test, y_test)\n",
    "            beta = reg.coef_[0]\n",
    "            treynor_ratio = (av_return_period-risk_free_rate)/beta\n",
    "\n",
    "            num += 1\n",
    "            combo = [elem.split(\"/\")[0] for elem in combination]\n",
    "            best_correlation_combination = {\n",
    "                \"Combination\": \" + \".join(list(map(lambda x: f\"{x[0]}*{x[1]}\", zip(weights, combo)))),\n",
    "                \"Dataframe\": sub_df,\n",
    "                \"Total Growth\": f\"{growth}%\",\n",
    "                \"Annual Growth\": f\"{ann_growth}%\",\n",
    "                \"Expected Return\": f\"{av_return_period}%\",\n",
    "                \"Volatility\": f\"{period_volatility_percentage}%\",\n",
    "                \"Risk Free Rate\": f\"{risk_free_rate}%\",\n",
    "                \"Sharpe ratio\": round(sharpe_ratio, 3),\n",
    "                \"Sortino ratio\": round(sortino_ratio, 3),\n",
    "                \"Treynor ratio\": round(treynor_ratio, 3),\n",
    "                \"CAC 40 corr\": round(reg.score(X,y), 3),\n",
    "                \"Beta\": round(beta, 3),\n",
    "                \"Alpha\": round(reg.intercept_, 3)\n",
    "            }\n",
    "            portfolios.append(best_correlation_combination)\n",
    "            \n",
    "        \n",
    "print(\"Number of diversified Portfolios:\", total_num, \"\\n\")\n",
    "\n",
    "print(\"-------------------- Report --------------------\")\n",
    "for key in portfolios[0].keys():\n",
    "    how_ = True\n",
    "    if key in [\"Volatility\", \"Beta\"]:\n",
    "        how_ = False\n",
    "    elif key in [\"Combination\", \"Risk Free Rate\", \"Dataframe\"]:\n",
    "        continue\n",
    "    print(f\"\\n************* By {key} *************\")\n",
    "    best_correlation_combinations = sorted(portfolios, key=lambda x: float(x[f\"{key}\"][:-1]) if type(x[f\"{key}\"]) == str else x[f\"{key}\"], reverse=how_)\n",
    "    print(\"Combination:\", best_correlation_combinations[0][\"Combination\"])\n",
    "    print(\"Total Growth:\", best_correlation_combinations[0][\"Total Growth\"])\n",
    "    print(\"Annual Growth:\", best_correlation_combinations[0][\"Annual Growth\"])\n",
    "    print(\"Expected Return:\", best_correlation_combinations[0][\"Expected Return\"])\n",
    "    print(\"Volatility:\", best_correlation_combinations[0][\"Volatility\"])\n",
    "    print(\"Risk Free Rate:\", best_correlation_combinations[0][\"Risk Free Rate\"])\n",
    "    print(\"Sharpe ratio:\", best_correlation_combinations[0][\"Sharpe ratio\"])\n",
    "    print(\"Sortino ratio:\", best_correlation_combinations[0][\"Sortino ratio\"])\n",
    "    print(\"Treynor ratio:\", best_correlation_combinations[0][\"Treynor ratio\"])\n",
    "    print(\"CAC 40 coef of deter. :\", best_correlation_combinations[0][\"CAC 40 corr\"])\n",
    "    print(\"Beta: \", best_correlation_combinations[0][\"Beta\"])\n",
    "    print(\"Alpha: \", best_correlation_combinations[0][\"Alpha\"])"
   ]
  },
  {
   "cell_type": "markdown",
   "id": "10292ef6",
   "metadata": {},
   "source": [
    "## Markowitz Portfolio Theory"
   ]
  },
  {
   "cell_type": "code",
   "execution_count": null,
   "id": "206b77bb",
   "metadata": {
    "scrolled": true
   },
   "outputs": [],
   "source": [
    "r_portfolio = df_returns_p[['LVMH Moët Hennessy Louis Vuitton S.E./MC.PA/Jewelry Stores', 'Sanofi/SAN.PA/Drug Manufacturers - Major', 'Eurofins Scientific SE/ERF.PA/Medical Laboratories & Research', 'Thales S.A./HO.PA/Aerospace/Defense - Major Diversified']]\n",
    "r_portfolio"
   ]
  },
  {
   "cell_type": "code",
   "execution_count": null,
   "id": "db380604",
   "metadata": {},
   "outputs": [],
   "source": [
    "def sim_rand_portfolios(returns):\n",
    "\n",
    "    mean_matrix = np.asmatrix(np.mean(returns, axis=0))\n",
    "    weight_matrix = np.asmatrix(weighting_list(returns.T.shape[0]))\n",
    "    cov_matrix = np.asmatrix(np.cov(returns.T))\n",
    "    \n",
    "    \n",
    "    expected_return = weight_matrix * mean_matrix.T * 252\n",
    "    volatility = np.sqrt(weight_matrix * cov_matrix * weight_matrix.T) * np.sqrt(252)\n",
    "    \n",
    "    # This recursion reduces outliers to keep plots pretty\n",
    "    if volatility > 90:\n",
    "        return sim_rand_portfolios(returns)\n",
    "    return expected_return, volatility\n",
    "\n",
    "means_return, vols = np.column_stack([\n",
    "    sim_rand_portfolios(r_portfolio) \n",
    "    for _ in range(number_of_random_portfolios)\n",
    "])"
   ]
  },
  {
   "cell_type": "code",
   "execution_count": null,
   "id": "8966ad80",
   "metadata": {},
   "outputs": [],
   "source": [
    "fig = plt.figure(figsize=(14, 7))\n",
    "plt.plot(vols, means_return, 'o', markersize=5)\n",
    "plt.xlabel('Volatility')\n",
    "plt.ylabel('Expected Return')\n",
    "plt.title('Mean and standard deviation of returns of randomly generated portfolios')\n",
    "plt.show()"
   ]
  },
  {
   "cell_type": "code",
   "execution_count": null,
   "id": "55a52f0b",
   "metadata": {
    "scrolled": true
   },
   "outputs": [],
   "source": [
    "def sim_optimization_portfolio(returns):\n",
    "    returns = returns.T\n",
    "    n = len(returns)\n",
    "    returns = np.asmatrix(returns)\n",
    "    \n",
    "    N = 10\n",
    "    mus = [10**(5.0 * t/N - 1.0) for t in range(N)]\n",
    "    \n",
    "    S = opt.matrix(np.cov(returns))\n",
    "    pbar = opt.matrix(np.mean(returns, axis=1))\n",
    "    \n",
    "    G = -opt.matrix(np.eye(n))  \n",
    "    h = opt.matrix(0.1, (n ,1))\n",
    "    A = opt.matrix(1.0, (1, n))\n",
    "    b = opt.matrix(1.0)\n",
    "    \n",
    "    portfolios = [solvers.qp(mu*S, -pbar, G, h, A, b)['x'] \n",
    "                  for mu in mus]\n",
    "\n",
    "\n",
    "    returns = [252*blas.dot(pbar, x) for x in portfolios]\n",
    "    risks = [np.sqrt(blas.dot(x, S*x))*np.sqrt(252) for x in portfolios]\n",
    "    \n",
    "\n",
    "    m1 = np.polyfit(returns, risks, 2)\n",
    "    x1 = np.sqrt(m1[2] / m1[0])\n",
    "    \n",
    "    wt = solvers.qp(opt.matrix(x1 * S), -pbar, G, h, A, b)['x']\n",
    "    return list(wt), returns, risks\n",
    "\n",
    "weights, returns, risks = sim_optimization_portfolio(r_portfolio)\n",
    "\n",
    "fig = plt.figure(figsize=(14,5))\n",
    "plt.plot(vols, means_return, 'o')\n",
    "plt.ylabel('Expected Return')\n",
    "plt.xlabel('Volatility')\n",
    "plt.plot(risks, returns, 'y-o')"
   ]
  },
  {
   "cell_type": "markdown",
   "id": "522c2b6e",
   "metadata": {},
   "source": [
    "### Comparison"
   ]
  },
  {
   "cell_type": "code",
   "execution_count": null,
   "id": "592f00ad",
   "metadata": {
    "scrolled": true
   },
   "outputs": [],
   "source": [
    "mpt_results = list(zip(weights, r_portfolio.columns))\n",
    "mpt_results"
   ]
  },
  {
   "cell_type": "code",
   "execution_count": null,
   "id": "dcd6af5c",
   "metadata": {},
   "outputs": [],
   "source": [
    "monte_carlo_results = sorted(portfolios, key=lambda x: float(x[\"Sharpe ratio\"][:-1]) if type(x[\"Sharpe ratio\"]) == str else x[\"Sharpe ratio\"])[0][\"Combination\"]\n",
    "monte_carlo_results = [[float(elem.split('*')[0]), elem.split('*')[1]] for elem in monte_carlo_results.split(\"+\")]\n",
    "monte_carlo_results"
   ]
  },
  {
   "cell_type": "code",
   "execution_count": null,
   "id": "0aafe344",
   "metadata": {
    "scrolled": true
   },
   "outputs": [],
   "source": [
    "companies = [elem[1].split()[0] for elem in monte_carlo_results]\n",
    "width = 3\n",
    "x = np.array(list(range(1, len(companies)*10, 10)))\n",
    "fig, ax = plt.subplots()\n",
    "ax.bar(x - width/2, [elem[0] for elem in monte_carlo_results], width, color=\"blue\", label=\"Monte Carlo Results\")\n",
    "ax.bar(x + width/2, [elem[0] for elem in mpt_results], width, color=\"green\", label=\"MPT Results\")\n",
    "ax.set_xticks(x)\n",
    "ax.set_xticklabels(companies)\n",
    "ax.set_title(\"Weights Comparaison\")\n",
    "ax.legend()\n",
    "plt.show()"
   ]
  },
  {
   "cell_type": "code",
   "execution_count": null,
   "id": "98dc5668",
   "metadata": {
    "scrolled": true
   },
   "outputs": [],
   "source": [
    "import matplotlib.dates as mdates\n",
    "\n",
    "p_sh = sorted(portfolios, key=lambda x: float(x[\"Sharpe ratio\"][:-1]) if type(x[\"Sharpe ratio\"]) == str else x[\"Sharpe ratio\"])[0][\"Dataframe\"]\n",
    "returns_monte_carlo, index_returns = p_sh[\"Portfolio Returns\"]/100, p_sh[\"Index Returns\"]/100\n",
    "capital_mpt, capital_monte, capital_index = 1000, 1000, 1000\n",
    "\n",
    "returns_mpt = 0\n",
    "ws_mpt = [elem[0] for elem in mpt_results] #Optimized Allocation\n",
    "#ws_mpt = [0, 1, 0, 0] #Manual allocation\n",
    "companies = [elem[1] for elem in mpt_results]\n",
    "for w_mpt, stock in zip(ws_mpt, companies):\n",
    "    returns_mpt += w_mpt/100*r_portfolio[stock]\n",
    "\n",
    "r_monte_carlo = (1+returns_monte_carlo).to_list()\n",
    "r_mpt = (1+returns_mpt).to_list()\n",
    "r_index = (1+index_returns).to_list()\n",
    "\n",
    "y_1, y_2, y_3 = [], [], []\n",
    "for i in range(len(returns_monte_carlo)):\n",
    "    res_mpt = capital_mpt * r_mpt[i]\n",
    "    res_mont = capital_monte * r_monte_carlo[i]\n",
    "    res_index = capital_index * r_index[i]\n",
    "    y_1.append(res_mont)\n",
    "    y_2.append(res_mpt)\n",
    "    y_3.append(res_index)\n",
    "    capital_mpt, capital_monte, capital_index = res_mpt, res_mont, res_index\n",
    "\n",
    "dates = returns_monte_carlo.index\n",
    "plt.figure(figsize=(20, 6))\n",
    "plt.gca().xaxis.set_major_locator(mdates.DayLocator(interval=90))\n",
    "plt.plot(dates, y_1, label=\"Monte Carlo Returns\", color=\"blue\")\n",
    "plt.plot(dates, y_2, label=\"MPT Returns\", color=\"green\")\n",
    "plt.plot(dates, y_3, label=\"Benchmark Index Returns\", color=\"orange\")\n",
    "plt.legend()\n",
    "plt.show()"
   ]
  }
 ],
 "metadata": {
  "kernelspec": {
   "display_name": "Python 3",
   "language": "python",
   "name": "python3"
  },
  "language_info": {
   "codemirror_mode": {
    "name": "ipython",
    "version": 3
   },
   "file_extension": ".py",
   "mimetype": "text/x-python",
   "name": "python",
   "nbconvert_exporter": "python",
   "pygments_lexer": "ipython3",
   "version": "3.8.8"
  }
 },
 "nbformat": 4,
 "nbformat_minor": 5
}
